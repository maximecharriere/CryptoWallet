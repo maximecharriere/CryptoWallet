{
  "cells": [
    {
      "cell_type": "markdown",
      "metadata": {
        "colab_type": "text",
        "id": "view-in-github"
      },
      "source": [
        "<a href=\"https://colab.research.google.com/github/maximecharriere/CryptoWallet/blob/main/CryptoWallet.ipynb\" target=\"_parent\"><img src=\"https://colab.research.google.com/assets/colab-badge.svg\" alt=\"Open In Colab\"/></a>"
      ]
    },
    {
      "cell_type": "markdown",
      "metadata": {
        "id": "FTcRskW6NcCp"
      },
      "source": [
        "## Import libraries"
      ]
    },
    {
      "cell_type": "code",
      "execution_count": null,
      "metadata": {
        "id": "k33aW2lsSISi"
      },
      "outputs": [],
      "source": [
        "try:\n",
        "  import google.colab\n",
        "  from google.colab import files\n",
        "  IN_COLAB = True\n",
        "except:\n",
        "  IN_COLAB = False\n",
        "import os\n",
        "import requests\n",
        "from requests.exceptions import ConnectionError, Timeout, TooManyRedirects\n",
        "import json\n",
        "import io\n",
        "import pandas as pd\n",
        "import numpy as np\n",
        "DEV_MODE = False\n",
        "\n",
        "from CryptoWallet.Wallet import Wallet\n",
        "from CryptoWallet.Loader import BinanceLoader\n",
        "from CryptoWallet.Transaction import TransactionType"
      ]
    },
    {
      "cell_type": "markdown",
      "metadata": {},
      "source": [
        "# Open database\n",
        "\n"
      ]
    },
    {
      "cell_type": "code",
      "execution_count": null,
      "metadata": {},
      "outputs": [],
      "source": [
        "wallet = Wallet(apiKey=os.getenv(\"CRYPTOCOMPARE_API_KEY\"), transactionsFilepath=\"data/transactions.csv\")"
      ]
    },
    {
      "attachments": {},
      "cell_type": "markdown",
      "metadata": {
        "id": "W7zc7zC8Nq-o"
      },
      "source": [
        "## Import Binance transactions"
      ]
    },
    {
      "cell_type": "code",
      "execution_count": null,
      "metadata": {},
      "outputs": [],
      "source": [
        "transactions_path = r\"C:\\Users\\Maxime\\SynologyDrive\\Documents\\05_Crypto\\Transactions\\Binance\"\n",
        "\n",
        "for filename in os.listdir(transactions_path):\n",
        "        # Create the full file path\n",
        "        filepath = os.path.join(transactions_path, filename)\n",
        "\n",
        "        # Check if it's a file and not a directory\n",
        "        if os.path.isfile(filepath):\n",
        "            # Call your processing function\n",
        "            wallet.addTransactions(BinanceLoader.load(filepath))\n",
        "\n",
        "wallet.save(\"data/transactions_2.csv\")\n",
        " "
      ]
    },
    {
      "cell_type": "markdown",
      "metadata": {},
      "source": [
        "## Export stats"
      ]
    },
    {
      "cell_type": "code",
      "execution_count": null,
      "metadata": {},
      "outputs": [],
      "source": [
        "wallet.getStatsTot().to_excel(\"data/stats.xlsx\")"
      ]
    },
    {
      "cell_type": "markdown",
      "metadata": {},
      "source": [
        "# Export for TradingView"
      ]
    },
    {
      "cell_type": "code",
      "execution_count": null,
      "metadata": {},
      "outputs": [],
      "source": [
        "wallet.exportTradingView('data/transactionsToPlot.txt')\n"
      ]
    },
    {
      "cell_type": "markdown",
      "metadata": {},
      "source": [
        "# Save transactions"
      ]
    },
    {
      "cell_type": "code",
      "execution_count": null,
      "metadata": {},
      "outputs": [],
      "source": [
        "wallet.save(\"data/transactions.csv\")"
      ]
    }
  ],
  "metadata": {
    "colab": {
      "authorship_tag": "ABX9TyNZE3LfXwIOCwv0kvJg1PVj",
      "include_colab_link": true,
      "name": "CryptoWallet.ipynb",
      "provenance": []
    },
    "kernelspec": {
      "display_name": "Python 3.10.7 ('venv': venv)",
      "language": "python",
      "name": "python3"
    },
    "language_info": {
      "codemirror_mode": {
        "name": "ipython",
        "version": 3
      },
      "file_extension": ".py",
      "mimetype": "text/x-python",
      "name": "python",
      "nbconvert_exporter": "python",
      "pygments_lexer": "ipython3",
      "version": "3.11.5"
    },
    "vscode": {
      "interpreter": {
        "hash": "8a9af52e7727319070ebe5d9dfcbe8c73e7182301ca7cea60eaa0df4871a205c"
      }
    }
  },
  "nbformat": 4,
  "nbformat_minor": 0
}
