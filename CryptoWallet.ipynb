{
  "nbformat": 4,
  "nbformat_minor": 0,
  "metadata": {
    "colab": {
      "name": "CryptoWallet.ipynb",
      "provenance": [],
      "authorship_tag": "ABX9TyOjZx5qCL9f9z0KptzUGd7s",
      "include_colab_link": true
    },
    "kernelspec": {
      "name": "python3",
      "display_name": "Python 3"
    },
    "language_info": {
      "name": "python"
    }
  },
  "cells": [
    {
      "cell_type": "markdown",
      "metadata": {
        "id": "view-in-github",
        "colab_type": "text"
      },
      "source": [
        "<a href=\"https://colab.research.google.com/github/maximecharriere/CryptoWallet/blob/main/CryptoWallet.ipynb\" target=\"_parent\"><img src=\"https://colab.research.google.com/assets/colab-badge.svg\" alt=\"Open In Colab\"/></a>"
      ]
    },
    {
      "cell_type": "markdown",
      "source": [
        "## Import libraries"
      ],
      "metadata": {
        "id": "FTcRskW6NcCp"
      }
    },
    {
      "cell_type": "code",
      "execution_count": null,
      "metadata": {
        "id": "k33aW2lsSISi"
      },
      "outputs": [],
      "source": [
        "import os\n",
        "import requests\n",
        "from requests.exceptions import ConnectionError, Timeout, TooManyRedirects\n",
        "import json\n",
        "from google.colab import files\n",
        "import io\n",
        "import pandas as pd\n",
        "\n",
        "DEV_MODE = False"
      ]
    },
    {
      "cell_type": "markdown",
      "source": [
        "## Binance"
      ],
      "metadata": {
        "id": "W7zc7zC8Nq-o"
      }
    },
    {
      "cell_type": "markdown",
      "source": [
        "### Import data\n",
        "To generate history on [binance.com](binance.com) : Wallet -> Transaction History -> Generate all statements"
      ],
      "metadata": {
        "id": "orR2GuqmOUdx"
      }
    },
    {
      "cell_type": "code",
      "source": [
        "uploaded = files.upload()\n",
        "assert len(uploaded)==1, \"Only one file must be added\"\n"
      ],
      "metadata": {
        "id": "FCzFFIyldRHn"
      },
      "execution_count": null,
      "outputs": []
    },
    {
      "cell_type": "markdown",
      "source": [
        "### Replace coins names\n"
      ],
      "metadata": {
        "id": "ryScJw9TYUfE"
      }
    },
    {
      "cell_type": "code",
      "source": [
        "coinMap = {'ERD':'EGLD','SHIB2':'SHIB'}\n",
        "\n",
        "for fn in uploaded.keys():\n",
        "    data = pd.read_csv(io.BytesIO(uploaded[fn]))\n",
        "    data['Coin'].replace(coinMap, inplace=True, regex=True) \n"
      ],
      "metadata": {
        "id": "06eqOyJ_nlqe"
      },
      "execution_count": null,
      "outputs": []
    },
    {
      "cell_type": "markdown",
      "source": [
        "### Test if all operations are handle by the script"
      ],
      "metadata": {
        "id": "HVinabpbh5-h"
      }
    },
    {
      "cell_type": "code",
      "source": [
        "for op in data['Operation'].unique():\n",
        "    assert op in ['Buy',\n",
        "                  'Sell',\n",
        "                  'POS savings purchase',\n",
        "                  'POS savings redemption',\n",
        "                  'POS savings interest',\n",
        "                  'ETH 2.0 Staking',\n",
        "                  'ETH 2.0 Staking Rewards',\n",
        "                  'Savings Interest',\n",
        "                  'Savings purchase',\n",
        "                  'Savings Principal redemption',\n",
        "                  'Cash Voucher distribution',\n",
        "                  'Distribution',\n",
        "                  'Rewards Distribution',\n",
        "                  'Deposit',\n",
        "                  'Fee',\n",
        "                  'Small assets exchange BNB',\n",
        "                  'Transaction Related',\n",
        "                  'Withdraw'], \\\n",
        "                  (f'The \"{op}\" operation is not currently handle by this script. '\n",
        "                  'Create an Issue on the Github Repository to add this operation.')"
      ],
      "metadata": {
        "id": "aVY-tSFYeH9T"
      },
      "execution_count": null,
      "outputs": []
    },
    {
      "cell_type": "markdown",
      "source": [
        "### Extract data by \"Operation\" and group them by coins"
      ],
      "metadata": {
        "id": "qDF8LBe-YwzQ"
      }
    },
    {
      "cell_type": "code",
      "source": [
        "spotBuy             = data.loc[data['Operation'] == 'Buy'                         ].groupby('Coin')['Change'].sum()\n",
        "spotSell            = data.loc[data['Operation'] == 'Sell'                        ].groupby('Coin')['Change'].sum()\n",
        "stakingPurchase     = data.loc[data['Operation'] == 'POS savings purchase'        ].groupby('Coin')['Change'].sum()\n",
        "stakingRedemption   = data.loc[data['Operation'] == 'POS savings redemption'      ].groupby('Coin')['Change'].sum()\n",
        "stakingInterest     = data.loc[data['Operation'] == 'POS savings interest'        ].groupby('Coin')['Change'].sum()\n",
        "stakingEth2Purchase = data.loc[data['Operation'] == 'ETH 2.0 Staking'             ].groupby('Coin')['Change'].sum()\n",
        "stakingEth2Interest = data.loc[data['Operation'] == 'ETH 2.0 Staking Rewards'     ].groupby('Coin')['Change'].sum()\n",
        "savingsInterest     = data.loc[data['Operation'] == 'Savings Interest'            ].groupby('Coin')['Change'].sum()\n",
        "savingsPurchase     = data.loc[data['Operation'] == 'Savings purchase'            ].groupby('Coin')['Change'].sum()\n",
        "savingsRedemption   = data.loc[data['Operation'] == 'Savings Principal redemption'].groupby('Coin')['Change'].sum()\n",
        "cashDistribution    = data.loc[data['Operation'] == 'Cash Voucher distribution'   ].groupby('Coin')['Change'].sum()\n",
        "distribution        = data.loc[data['Operation'] == 'Distribution'                ].groupby('Coin')['Change'].sum()\n",
        "rewardsDistribution = data.loc[data['Operation'] == 'Rewards Distribution'        ].groupby('Coin')['Change'].sum()\n",
        "deposit             = data.loc[data['Operation'] == 'Deposit'                     ].groupby('Coin')['Change'].sum()\n",
        "fee                 = data.loc[data['Operation'] == 'Fee'                         ].groupby('Coin')['Change'].sum()\n",
        "exchangeBNB         = data.loc[data['Operation'] == 'Small assets exchange BNB'   ].groupby('Coin')['Change'].sum()\n",
        "transaction         = data.loc[data['Operation'] == 'Transaction Related'         ].groupby('Coin')['Change'].sum()\n",
        "withdraw            = data.loc[data['Operation'] == 'Withdraw'                    ].groupby('Coin')['Change'].sum()\n"
      ],
      "metadata": {
        "id": "yT5jmTR5nqoR"
      },
      "execution_count": null,
      "outputs": []
    },
    {
      "cell_type": "markdown",
      "source": [
        "### Group operations\n",
        "Group operation by wallet\n",
        "- Spot\n",
        "- Savings + Savings Interest\n",
        "- Stacking + Stacking Interest\n"
      ],
      "metadata": {
        "id": "0ds_S0DGapjm"
      }
    },
    {
      "cell_type": "code",
      "source": [
        "# Remove fiat\n",
        "fiat = ['USD', 'GBP', 'SEK', 'CAD', 'EUR', 'CNY', 'RUB', 'TRY', 'NGN', 'UAH', \n",
        "        'KZT', 'VND', 'COH', 'PLN', 'INR', 'BRL', 'ARS', 'MXN', 'IDR']\n",
        "data = data[~data.Coin.isin(fiat)]\n",
        "\n",
        "\n",
        "result = {}\n",
        "result['Spot'] = data.groupby('Coin')['Change'].sum()\n",
        "result['Savings'] = result['Spot'].loc[result['Spot'].index.str.startswith('LD')].rename(index=lambda s: s[2:]) # Coin begining with LD are coin stored in savings wallet\n",
        "result['Spot'].drop(result['Spot'].index[result['Spot'].index.str.startswith('LD')],inplace=True) # Remove coins found in saving wallet (beginning with LD) from the spot wallet\n",
        "result['Savings Interest'] = savingsInterest.add(rewardsDistribution,fill_value=0)\n",
        "result['Staking'] = (-stakingPurchase).sub(stakingRedemption,fill_value=0)\n",
        "result['Staking Interest'] = stakingInterest.add(stakingEth2Interest,fill_value=0)\n",
        "\n",
        "result['Staking'] = result['Staking'].add(result['Spot'].loc[result['Spot'].index=='BETH'],fill_value=0) # Move ETH2.0 stacking coin BETH from spot to staking wallet\n",
        "result['Spot'].drop('BETH',inplace=True) # Remove coin BETH from spot\n",
        "\n",
        "resultDf = pd.DataFrame(result)"
      ],
      "metadata": {
        "id": "-_xS42dv5CGI"
      },
      "execution_count": null,
      "outputs": []
    },
    {
      "cell_type": "markdown",
      "source": [
        "## Add USD value"
      ],
      "metadata": {
        "id": "skC98rAvkMIW"
      }
    },
    {
      "cell_type": "code",
      "source": [
        "# Config CMC API\n",
        "\n",
        "if DEV_MODE:\n",
        "    api_url = 'https://sandbox-api.coinmarketcap.com/v1/cryptocurrency/quotes/latest'\n",
        "    api_headers = {\n",
        "    'Accepts': 'application/json',\n",
        "    'X-CMC_PRO_API_KEY': 'b54bcf4d-1bca-4e8e-9a24-22ff2c3d462c',\n",
        "    }\n",
        "else:\n",
        "    api_url = 'https://pro-api.coinmarketcap.com/v1/cryptocurrency/quotes/latest'\n",
        "    api_headers = {\n",
        "      'Accepts': 'application/json',\n",
        "      'X-CMC_PRO_API_KEY': 'b1500d10-1275-47e2-82b7-f722cd05398a',\n",
        "    }\n",
        "\n",
        "\n",
        "api_parameters = {\n",
        "  'symbol':\"\",\n",
        "  'convert':'USD'\n",
        "}   \n",
        "api_session = requests.Session()\n",
        "api_session.headers.update(api_headers)\n",
        "\n",
        "# Modify symbol name different in CMC\n",
        "symbol_map = {'IOTA':'MIOTA'}\n",
        "resultDf.rename(index = symbol_map, inplace=True)\n",
        "\n",
        "# Create symbol list\n",
        "api_parameters['symbol'] = ','.join(resultDf.index.values)\n",
        "\n",
        "# Get USD prices\n",
        "try:\n",
        "  response = api_session.get(api_url, params=api_parameters)\n",
        "  response_json = json.loads(response.text)\n",
        "except (ConnectionError, Timeout, TooManyRedirects) as e:\n",
        "  print(e)\n",
        "\n",
        "assert response_json['status']['error_code'] == 0,\\\n",
        " (f\"CoinMarketCap Error N°{response_json['status']['error_code']} : {response_json['status']['error_message']}\")\n",
        "\n",
        "# Add USD value\n",
        "resultDf['Spot (USD)'] = resultDf.apply(lambda row : response_json['data'][row.name][\"quote\"][\"USD\"][\"price\"]*row['Spot'], axis=1)\n",
        "resultDf['Savings (USD)'] = resultDf.apply(lambda row : response_json['data'][row.name][\"quote\"][\"USD\"][\"price\"]*row['Savings'], axis=1)\n",
        "resultDf['Staking (USD)'] = resultDf.apply(lambda row : response_json['data'][row.name][\"quote\"][\"USD\"][\"price\"]*row['Staking'], axis=1)\n"
      ],
      "metadata": {
        "id": "Td1M5tBnkW09"
      },
      "execution_count": null,
      "outputs": []
    },
    {
      "cell_type": "markdown",
      "source": [
        "## Export result"
      ],
      "metadata": {
        "id": "clmuUPEMkTn6"
      }
    },
    {
      "cell_type": "code",
      "source": [
        "resultDf.to_csv('output.csv')\n",
        "files.download('output.csv')"
      ],
      "metadata": {
        "id": "g7V1z0A95nZI"
      },
      "execution_count": null,
      "outputs": []
    },
    {
      "cell_type": "code",
      "source": [
        ""
      ],
      "metadata": {
        "id": "hK1c_f83cdva"
      },
      "execution_count": null,
      "outputs": []
    }
  ]
}