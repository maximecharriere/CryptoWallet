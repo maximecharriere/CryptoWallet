{
 "cells": [
  {
   "cell_type": "markdown",
   "metadata": {
    "colab_type": "text",
    "id": "view-in-github"
   },
   "source": [
    "<a href=\"https://colab.research.google.com/github/maximecharriere/CryptoWallet/blob/main/CryptoWallet.ipynb\" target=\"_parent\"><img src=\"https://colab.research.google.com/assets/colab-badge.svg\" alt=\"Open In Colab\"/></a>\n"
   ]
  },
  {
   "cell_type": "markdown",
   "metadata": {
    "id": "FTcRskW6NcCp"
   },
   "source": [
    "## Import libraries\n"
   ]
  },
  {
   "cell_type": "code",
   "execution_count": 1,
   "metadata": {
    "id": "k33aW2lsSISi"
   },
   "outputs": [],
   "source": [
    "import os\n",
    "from CryptoWallet.Loader import BinanceLoader, SwissborgLoader, KucoinLoader, BybitLoader, ManualTransactionsLoader, CoinbaseLoader, LedgerLoader\n",
    "from CryptoWallet.Wallet import Wallet\n",
    "from CryptoWallet.Settings import Settings\n",
    "\n",
    "import pandas as pd\n",
    "\n",
    "settings = Settings.load()"
   ]
  },
  {
   "cell_type": "markdown",
   "metadata": {},
   "source": [
    "# Open database\n"
   ]
  },
  {
   "cell_type": "code",
   "execution_count": null,
   "metadata": {},
   "outputs": [],
   "source": [
    "wallet = Wallet(apiKey=settings.cryptocompare_api_key, databaseFilename=settings.database_filepath)"
   ]
  },
  {
   "cell_type": "code",
   "execution_count": null,
   "metadata": {},
   "outputs": [],
   "source": []
  },
  {
   "attachments": {},
   "cell_type": "markdown",
   "metadata": {
    "id": "W7zc7zC8Nq-o"
   },
   "source": [
    "## Import Binance transactions\n",
    "\n",
    "### ~~Payment History~~\n",
    "- (déjà dans Transaction History)\n",
    "### Convert History\n",
    "- (??. Pas encore de transactions)\n",
    "### Fiat Orders\n",
    "- (??. Pas encore de transactions)\n",
    "### Earn History - Simple Earn - Flexible\n",
    "- ~~earn-flexible-subscription~~ (déjà dans Transaction History)  \n",
    "- ~~earn-flexible-redemption~~ (déjà dans Transaction History)  \n",
    "- **earn-flexible-rewards** -> Enlever les \"Bonus Tiered APR Rewards\" (déjà dans Transaction History), ajouter \"Real-time APR Rewards\" a la Transaction History  \n",
    "> Transformer `\"2024-12-30\",\"BNB\",\"6.4E-7\",\"Real-time APR Rewards\"`  \n",
    "> en `\"141795728\",\"2024-12-30 00:00:00\",\"Spot\",\"Simple Earn Flexible Interest\",\"BNB\",\"6.4E-7\",\"Manually added from export : earn-flexible-rewards\"`  \n",
    "\n",
    "### Earn History - Simple Earn - Locked / Flexible Trial Fund / Collateral / Locked Savings / Activities\n",
    "- (??. Pas encore de transactions)\n",
    "### Earn History - Staking - ETH\n",
    "- **earn-eth-staking**  \n",
    "- **earn-eth-redemption**  \n",
    "- ?? earn-eth-distribution (??. Pas encore de transactions)\n",
    "- ?? earn-eth-wrap (??. Pas encore de transactions)\n",
    "- ?? earn-eth-unwrap (??. Pas encore de transactions)\n",
    "### Earn History - Staking - SOL\n",
    "- **earn-sol-staking**  \n",
    "- **earn-sol-redemption**  \n",
    "- ~~earn-sol-rewards~~ (n'est pas représentatif d'un réel changement dans les comptes, étant donné que c'est la valeur du BNSOL qui monte, et que aucun SOL n'est distribué)\n",
    "- ?? earn-sol-claim (l'export ne fonctionne pas)  \n",
    "- ?? earn-sol-distribution (l'export ne fonctionne pas)  \n",
    "### Earn History - Staking - On-chain / DeFi / DOT / NFT\n",
    "- (??. Pas encore de transactions)\n",
    "### ~~Earn History - Lauchpool~~\n",
    "- (déjà dans Transaction History)\n",
    "### Earn History - Dual / Auto / Range / Liquid / Smart\n",
    "- (??. Pas encore de transactions)\n",
    "### P2P Oder\n",
    "- (??. Pas encore de transactions)\n",
    "### Futures Order\n",
    "- (??. Pas encore de transactions)\n",
    "### ~~Spot Order~~\n",
    "- (déjà dans Transaction History)\n"
   ]
  },
  {
   "cell_type": "code",
   "execution_count": null,
   "metadata": {},
   "outputs": [],
   "source": [
    "transactions_path = os.path.join(settings.exported_transactions_dirpath, \"Binance\")\n",
    "\n",
    "for filename in os.listdir(transactions_path):\n",
    "    # Create the full file path\n",
    "    filepath = os.path.join(transactions_path, filename)\n",
    "\n",
    "    # Check if it's a file and not a directory\n",
    "    if os.path.isfile(filepath):\n",
    "        # Call your processing function\n",
    "        wallet.addTransactions(BinanceLoader.load(filepath))\n",
    "\n",
    "wallet.printFirstLastTransactionDatetime()\n",
    "# wallet.save()"
   ]
  },
  {
   "cell_type": "markdown",
   "metadata": {},
   "source": [
    "## Import Ledger transactions\n",
    "- Ledger Live > Accounts > ... > Export\n",
    "\n",
    "Note:  \n",
    "- CORE tokens must be added manually (CORE network)\n",
    "- RWA tokens must be added manually (BASE network)"
   ]
  },
  {
   "cell_type": "code",
   "execution_count": null,
   "metadata": {},
   "outputs": [],
   "source": [
    "transactions_path = os.path.join(settings.exported_transactions_dirpath, \"Ledger\")\n",
    "\n",
    "for filename in os.listdir(transactions_path):\n",
    "    # Create the full file path\n",
    "    filepath = os.path.join(transactions_path, filename)\n",
    "\n",
    "    # Check if it's a file and not a directory\n",
    "    if os.path.isfile(filepath):\n",
    "        # Call your processing function\n",
    "        wallet.addTransactions(LedgerLoader.load(filepath))\n",
    "\n",
    "wallet.printFirstLastTransactionDatetime()\n",
    "# wallet.save()"
   ]
  },
  {
   "cell_type": "markdown",
   "metadata": {},
   "source": [
    "## Import Swissborg transactions\n",
    "\n",
    "1. Go in Swissborg app\n",
    "2. Profil > Relevé de compte"
   ]
  },
  {
   "cell_type": "code",
   "execution_count": null,
   "metadata": {},
   "outputs": [],
   "source": [
    "transactions_path = os.path.join(settings.exported_transactions_dirpath, \"SwissBorg\")\n",
    "\n",
    "for filename in os.listdir(transactions_path):\n",
    "    # Create the full file path\n",
    "    filepath = os.path.join(transactions_path, filename)\n",
    "\n",
    "    # Check if it's a file and not a directory\n",
    "    if os.path.isfile(filepath):\n",
    "        # Call your processing function\n",
    "        wallet.addTransactions(SwissborgLoader.load(filepath))\n",
    "\n",
    "wallet.printFirstLastTransactionDatetime()\n",
    "# wallet.save()"
   ]
  },
  {
   "cell_type": "markdown",
   "metadata": {},
   "source": [
    "## Import Kucoin transactions\n",
    "1. Go to https://www.kucoin.com/order/trade/history\n",
    "2. Export all account history\n"
   ]
  },
  {
   "cell_type": "code",
   "execution_count": null,
   "metadata": {},
   "outputs": [],
   "source": [
    "transactions_path = os.path.join(settings.exported_transactions_dirpath, \"Kucoin\")\n",
    "\n",
    "for folder_name in os.listdir(transactions_path):\n",
    "    # Create the full file path\n",
    "    subfolder_path = os.path.join(transactions_path, folder_name)\n",
    "\n",
    "    # Call your processing function\n",
    "    wallet.addTransactions(KucoinLoader.load(subfolder_path))\n",
    "\n",
    "wallet.printFirstLastTransactionDatetime()\n",
    "# wallet.save()"
   ]
  },
  {
   "cell_type": "markdown",
   "metadata": {},
   "source": [
    "## Import Bybit transactions\n",
    "\n",
    "1. Go to https://www.bybit.com/user/assets/exportStatment\n",
    "2. Export \"Account Change Details\" from \"Export Account Statement\""
   ]
  },
  {
   "cell_type": "code",
   "execution_count": null,
   "metadata": {},
   "outputs": [],
   "source": [
    "transactions_path = os.path.join(settings.exported_transactions_dirpath, \"ByBit\")\n",
    "\n",
    "for folder_name in os.listdir(transactions_path):\n",
    "    # Create the full file path\n",
    "    subfolder_path = os.path.join(transactions_path, folder_name)\n",
    "\n",
    "    # Call your processing function\n",
    "    wallet.addTransactions(BybitLoader.load(subfolder_path))\n",
    "    \n",
    "wallet.printFirstLastTransactionDatetime()\n",
    "# wallet.save()"
   ]
  },
  {
   "cell_type": "markdown",
   "metadata": {},
   "source": [
    "# Import Coinbase transactions\n",
    "\n",
    "1. Go to https://accounts.coinbase.com/statements\n",
    "2. Export all as CSV"
   ]
  },
  {
   "cell_type": "raw",
   "metadata": {
    "vscode": {
     "languageId": "raw"
    }
   },
   "source": [
    "transactions_path = os.path.join(settings.exported_transactions_dirpath, \"Coinbase\")\n",
    "\n",
    "for folder_name in os.listdir(transactions_path):\n",
    "    # Create the full file path\n",
    "    subfolder_path = os.path.join(transactions_path, folder_name)\n",
    "\n",
    "    # Call your processing function\n",
    "    wallet.addTransactions(CoinbaseLoader.load(subfolder_path))\n",
    "\n",
    "wallet.printFirstLastTransactionDatetime()\n",
    "# wallet.save()\n",
    "\n",
    "print(\"WARNING: Please check the transactions and make sure they are correct. Loader not 100% accurate for Coinbase. Please check the transactions manually.\")"
   ]
  },
  {
   "cell_type": "markdown",
   "metadata": {},
   "source": [
    "## Import Manual Transactions files"
   ]
  },
  {
   "cell_type": "code",
   "execution_count": null,
   "metadata": {},
   "outputs": [],
   "source": [
    "transactions_path = os.path.join(settings.exported_transactions_dirpath, \"Manual\")\n",
    "\n",
    "for filename in os.listdir(transactions_path):\n",
    "    # Create the full file path\n",
    "    filepath = os.path.join(transactions_path, filename)\n",
    "\n",
    "    # Check if it's a file and not a directory\n",
    "    if os.path.isfile(filepath):\n",
    "        # Call your processing function\n",
    "        wallet.addTransactions(ManualTransactionsLoader.load(filepath))\n",
    "\n",
    "# wallet.save()"
   ]
  },
  {
   "cell_type": "markdown",
   "metadata": {},
   "source": [
    "## Summary"
   ]
  },
  {
   "cell_type": "code",
   "execution_count": null,
   "metadata": {},
   "outputs": [],
   "source": [
    "wallet.getSummary()"
   ]
  },
  {
   "cell_type": "markdown",
   "metadata": {},
   "source": [
    "## Export Excel\n"
   ]
  },
  {
   "cell_type": "code",
   "execution_count": 5,
   "metadata": {},
   "outputs": [],
   "source": [
    "stats_filepath = os.path.join(settings.output_dirpath, \"stats.xlsx\")\n",
    "\n",
    "if settings.output_dirpath:  # Only create directories if there's actually a path component\n",
    "    os.makedirs(settings.output_dirpath, exist_ok=True)\n",
    "\n",
    "with pd.ExcelWriter(stats_filepath, engine='openpyxl') as writer:\n",
    "    wallet.getSummary().to_excel(writer, sheet_name='Summary')\n",
    "    wallet.getCoinsStats().to_excel(writer, sheet_name='Coins Stats')\n",
    "    wallet.getWalletsBalance().to_excel(writer, sheet_name='Wallets Balance')\n",
    "    wallet.getTransactions(remove_datetime_timezone=True).to_excel(writer, sheet_name='Transactions', index=False)\n"
   ]
  },
  {
   "cell_type": "markdown",
   "metadata": {},
   "source": [
    "# Export for TradingView\n"
   ]
  },
  {
   "cell_type": "code",
   "execution_count": null,
   "metadata": {},
   "outputs": [],
   "source": [
    "TradingView_filepath = os.path.join(settings.output_dirpath, \"TradingView_PineData.txt\")\n",
    "\n",
    "if settings.output_dirpath:  # Only create directories if there's actually a path component\n",
    "    os.makedirs(settings.output_dirpath, exist_ok=True)\n",
    "    \n",
    "wallet.exportTradingView(TradingView_filepath)"
   ]
  },
  {
   "cell_type": "markdown",
   "metadata": {},
   "source": [
    "# Save transactions\n"
   ]
  },
  {
   "cell_type": "code",
   "execution_count": null,
   "metadata": {},
   "outputs": [],
   "source": [
    "wallet.save()"
   ]
  },
  {
   "cell_type": "code",
   "execution_count": null,
   "metadata": {},
   "outputs": [],
   "source": []
  }
 ],
 "metadata": {
  "colab": {
   "authorship_tag": "ABX9TyNZE3LfXwIOCwv0kvJg1PVj",
   "include_colab_link": true,
   "name": "CryptoWallet.ipynb",
   "provenance": []
  },
  "kernelspec": {
   "display_name": ".venv",
   "language": "python",
   "name": "python3"
  },
  "language_info": {
   "codemirror_mode": {
    "name": "ipython",
    "version": 3
   },
   "file_extension": ".py",
   "mimetype": "text/x-python",
   "name": "python",
   "nbconvert_exporter": "python",
   "pygments_lexer": "ipython3",
   "version": "3.12.6"
  }
 },
 "nbformat": 4,
 "nbformat_minor": 0
}
