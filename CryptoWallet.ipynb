{
  "cells": [
    {
      "cell_type": "markdown",
      "metadata": {
        "colab_type": "text",
        "id": "view-in-github"
      },
      "source": [
        "<a href=\"https://colab.research.google.com/github/maximecharriere/CryptoWallet/blob/main/CryptoWallet.ipynb\" target=\"_parent\"><img src=\"https://colab.research.google.com/assets/colab-badge.svg\" alt=\"Open In Colab\"/></a>"
      ]
    },
    {
      "cell_type": "markdown",
      "metadata": {
        "id": "FTcRskW6NcCp"
      },
      "source": [
        "## Import libraries"
      ]
    },
    {
      "cell_type": "code",
      "execution_count": 3,
      "metadata": {
        "id": "k33aW2lsSISi"
      },
      "outputs": [],
      "source": [
        "import os\n",
        "import requests\n",
        "from requests.exceptions import ConnectionError, Timeout, TooManyRedirects\n",
        "import json\n",
        "# from google.colab import files\n",
        "import io\n",
        "import pandas as pd\n",
        "import numpy as np\n",
        "DEV_MODE = False"
      ]
    },
    {
      "cell_type": "code",
      "execution_count": 20,
      "metadata": {},
      "outputs": [
        {
          "name": "stdout",
          "output_type": "stream",
          "text": [
            "   A  B   Sum\n",
            "0  1  4   5.0\n",
            "1  2  5  17.0\n",
            "2  3  6  19.0\n"
          ]
        }
      ],
      "source": [
        "# create an example pandas dataframe\n",
        "df = pd.DataFrame({'A': [1, 2, 3], 'B': [4, 5, 6], 'Sum': [np.nan, 17, 19]})\n",
        "\n",
        "df.loc[df.Sum.isna(),'Sum'] = df[df.Sum.isna()].apply(lambda row: row['A'] + row['B'], axis=1)\n",
        "\n",
        "print(df)"
      ]
    },
    {
      "cell_type": "markdown",
      "metadata": {
        "id": "W7zc7zC8Nq-o"
      },
      "source": [
        "## Binance"
      ]
    },
    {
      "cell_type": "code",
      "execution_count": 17,
      "metadata": {},
      "outputs": [
        {
          "name": "stdout",
          "output_type": "stream",
          "text": [
            "None\n"
          ]
        }
      ],
      "source": [
        "# TEST\n",
        "data = pd.concat([\n",
        "    pd.read_csv(r\"C:\\Users\\conta\\SynologyDrive\\Documents\\Crypto\\Transactions\\binance1_2021-03-01 - 2021-10-31.csv\"),\n",
        "    pd.read_csv(r\"C:\\Users\\conta\\SynologyDrive\\Documents\\Crypto\\Transactions\\binance1_2021-11-01 - 2022-10-20.csv\"), \n",
        "    pd.read_csv(r\"C:\\Users\\conta\\SynologyDrive\\Documents\\Crypto\\Transactions\\binance2_2021-01-01 - 2021-12-31.csv\"), \n",
        "    pd.read_csv(r\"C:\\Users\\conta\\SynologyDrive\\Documents\\Crypto\\Transactions\\binance2_2022-01-01 - 2022-10-25.csv\")\n",
        "    ], ignore_index=True)\n",
        "\n",
        "print(data['Operation'].unique().sort())"
      ]
    },
    {
      "cell_type": "markdown",
      "metadata": {
        "id": "orR2GuqmOUdx"
      },
      "source": [
        "### Import data\n",
        "To generate history on [binance.com](binance.com) : Wallet -> Transaction History -> Generate all statements"
      ]
    },
    {
      "cell_type": "code",
      "execution_count": null,
      "metadata": {
        "id": "FCzFFIyldRHn"
      },
      "outputs": [],
      "source": [
        "uploaded = files.upload()\n",
        "assert len(uploaded)==1, \"Only one file must be added\"\n"
      ]
    },
    {
      "cell_type": "markdown",
      "metadata": {
        "id": "ryScJw9TYUfE"
      },
      "source": [
        "### Replace coins names\n"
      ]
    },
    {
      "cell_type": "code",
      "execution_count": null,
      "metadata": {
        "id": "06eqOyJ_nlqe"
      },
      "outputs": [],
      "source": [
        "coinMap = {'ERD':'EGLD','SHIB2':'SHIB'}\n",
        "\n",
        "for fn in uploaded.keys():\n",
        "    data = pd.read_csv(io.BytesIO(uploaded[fn]))\n",
        "    data['Coin'].replace(coinMap, inplace=True, regex=True) \n"
      ]
    },
    {
      "cell_type": "markdown",
      "metadata": {
        "id": "HVinabpbh5-h"
      },
      "source": [
        "### Test if all operations are handle by the script"
      ]
    },
    {
      "cell_type": "code",
      "execution_count": null,
      "metadata": {
        "id": "aVY-tSFYeH9T"
      },
      "outputs": [],
      "source": [
        "for op in data['Operation'].unique():\n",
        "    assert op in ['Buy',\n",
        "                  'Sell',\n",
        "                  'POS savings purchase',\n",
        "                  'POS savings redemption',\n",
        "                  'POS savings interest',\n",
        "                  'ETH 2.0 Staking',\n",
        "                  'ETH 2.0 Staking Rewards',\n",
        "                  'Savings Interest',\n",
        "                  'Savings purchase',\n",
        "                  'Savings Principal redemption',\n",
        "                  'Cash Voucher distribution',\n",
        "                  'Distribution',\n",
        "                  'Rewards Distribution',\n",
        "                  'Deposit',\n",
        "                  'Fee',\n",
        "                  'Small assets exchange BNB',\n",
        "                  'Transaction Related',\n",
        "                  'Withdraw'], \\\n",
        "                  (f'The \"{op}\" operation is not currently handle by this script. '\n",
        "                  'Create an Issue on the Github Repository to add this operation.')"
      ]
    },
    {
      "cell_type": "markdown",
      "metadata": {
        "id": "qDF8LBe-YwzQ"
      },
      "source": [
        "### Extract data by \"Operation\" and group them by coins"
      ]
    },
    {
      "cell_type": "code",
      "execution_count": null,
      "metadata": {
        "id": "yT5jmTR5nqoR"
      },
      "outputs": [],
      "source": [
        "spotBuy             = data.loc[data['Operation'] == 'Buy'                         ].groupby('Coin')['Change'].sum()\n",
        "spotSell            = data.loc[data['Operation'] == 'Sell'                        ].groupby('Coin')['Change'].sum()\n",
        "stakingPurchase     = data.loc[data['Operation'] == 'POS savings purchase'        ].groupby('Coin')['Change'].sum()\n",
        "stakingRedemption   = data.loc[data['Operation'] == 'POS savings redemption'      ].groupby('Coin')['Change'].sum()\n",
        "stakingInterest     = data.loc[data['Operation'] == 'POS savings interest'        ].groupby('Coin')['Change'].sum()\n",
        "stakingEth2Purchase = data.loc[data['Operation'] == 'ETH 2.0 Staking'             ].groupby('Coin')['Change'].sum()\n",
        "stakingEth2Interest = data.loc[data['Operation'] == 'ETH 2.0 Staking Rewards'     ].groupby('Coin')['Change'].sum()\n",
        "savingsInterest     = data.loc[data['Operation'] == 'Savings Interest'            ].groupby('Coin')['Change'].sum()\n",
        "savingsPurchase     = data.loc[data['Operation'] == 'Savings purchase'            ].groupby('Coin')['Change'].sum()\n",
        "savingsRedemption   = data.loc[data['Operation'] == 'Savings Principal redemption'].groupby('Coin')['Change'].sum()\n",
        "cashDistribution    = data.loc[data['Operation'] == 'Cash Voucher distribution'   ].groupby('Coin')['Change'].sum()\n",
        "distribution        = data.loc[data['Operation'] == 'Distribution'                ].groupby('Coin')['Change'].sum()\n",
        "rewardsDistribution = data.loc[data['Operation'] == 'Rewards Distribution'        ].groupby('Coin')['Change'].sum()\n",
        "deposit             = data.loc[data['Operation'] == 'Deposit'                     ].groupby('Coin')['Change'].sum()\n",
        "fee                 = data.loc[data['Operation'] == 'Fee'                         ].groupby('Coin')['Change'].sum()\n",
        "exchangeBNB         = data.loc[data['Operation'] == 'Small assets exchange BNB'   ].groupby('Coin')['Change'].sum()\n",
        "transaction         = data.loc[data['Operation'] == 'Transaction Related'         ].groupby('Coin')['Change'].sum()\n",
        "withdraw            = data.loc[data['Operation'] == 'Withdraw'                    ].groupby('Coin')['Change'].sum()\n"
      ]
    },
    {
      "cell_type": "markdown",
      "metadata": {
        "id": "0ds_S0DGapjm"
      },
      "source": [
        "### Group operations\n",
        "Group operation by wallet\n",
        "- Spot\n",
        "- Savings + Savings Interest\n",
        "- Stacking + Stacking Interest\n"
      ]
    },
    {
      "cell_type": "code",
      "execution_count": null,
      "metadata": {
        "id": "-_xS42dv5CGI"
      },
      "outputs": [],
      "source": [
        "# Remove fiat\n",
        "fiat = ['USD', 'GBP', 'SEK', 'CAD', 'EUR', 'CNY', 'RUB', 'TRY', 'NGN', 'UAH', \n",
        "        'KZT', 'VND', 'COH', 'PLN', 'INR', 'BRL', 'ARS', 'MXN', 'IDR']\n",
        "data = data[~data.Coin.isin(fiat)]\n",
        "\n",
        "\n",
        "result = {}\n",
        "result['Spot'] = data.groupby('Coin')['Change'].sum()\n",
        "result['Savings'] = result['Spot'].loc[result['Spot'].index.str.startswith('LD')].rename(index=lambda s: s[2:]) # Coin begining with LD are coin stored in savings wallet\n",
        "result['Spot'].drop(result['Spot'].index[result['Spot'].index.str.startswith('LD')],inplace=True) # Remove coins found in saving wallet (beginning with LD) from the spot wallet\n",
        "result['Savings Interest'] = savingsInterest.add(rewardsDistribution,fill_value=0)\n",
        "result['Staking'] = (-stakingPurchase).sub(stakingRedemption,fill_value=0)\n",
        "result['Staking Interest'] = stakingInterest.add(stakingEth2Interest,fill_value=0)\n",
        "\n",
        "result['Staking'] = result['Staking'].add(result['Spot'].loc[result['Spot'].index=='BETH'],fill_value=0) # Move ETH2.0 stacking coin BETH from spot to staking wallet\n",
        "result['Spot'].drop('BETH',inplace=True) # Remove coin BETH from spot\n",
        "\n",
        "resultDf = pd.DataFrame(result).fillna(0)"
      ]
    },
    {
      "cell_type": "markdown",
      "metadata": {
        "id": "skC98rAvkMIW"
      },
      "source": [
        "## Add USD value"
      ]
    },
    {
      "cell_type": "code",
      "execution_count": null,
      "metadata": {
        "id": "VXzcbG66Xjz8"
      },
      "outputs": [],
      "source": [
        "def addUsdValue(df, colName, currentPriceJson):\n",
        "    newColIdx = df.columns.get_loc(colName) + 1\n",
        "    newColName = colName + ' (USD)'\n",
        "    newColData = df.apply(lambda row : currentPriceJson['data'][row.name][\"quote\"][\"USD\"][\"price\"]*row[colName], axis=1)\n",
        "    df.insert(newColIdx, newColName, newColData)\n"
      ]
    },
    {
      "cell_type": "code",
      "execution_count": null,
      "metadata": {
        "id": "Td1M5tBnkW09"
      },
      "outputs": [],
      "source": [
        "# Config CMC API\n",
        "\n",
        "if DEV_MODE:\n",
        "    api_url = 'https://sandbox-api.coinmarketcap.com/v1/cryptocurrency/quotes/latest'\n",
        "    api_headers = {\n",
        "    'Accepts': 'application/json',\n",
        "    'X-CMC_PRO_API_KEY': 'b54bcf4d-1bca-4e8e-9a24-22ff2c3d462c',\n",
        "    }\n",
        "else:\n",
        "    api_url = 'https://pro-api.coinmarketcap.com/v1/cryptocurrency/quotes/latest'\n",
        "    api_headers = {\n",
        "      'Accepts': 'application/json',\n",
        "      'X-CMC_PRO_API_KEY': 'b1500d10-1275-47e2-82b7-f722cd05398a',\n",
        "    }\n",
        "\n",
        "\n",
        "api_parameters = {\n",
        "  'symbol':\"\",\n",
        "  'convert':'USD'\n",
        "}   \n",
        "api_session = requests.Session()\n",
        "api_session.headers.update(api_headers)\n",
        "\n",
        "# Modify symbol name different in CMC\n",
        "symbol_map = {'IOTA':'MIOTA'}\n",
        "resultDf.rename(index = symbol_map, inplace=True)\n",
        "\n",
        "# Create symbol list\n",
        "api_parameters['symbol'] = ','.join(resultDf.index.values)\n",
        "\n",
        "# Get USD prices\n",
        "try:\n",
        "  response = api_session.get(api_url, params=api_parameters)\n",
        "  response_json = json.loads(response.text)\n",
        "except (ConnectionError, Timeout, TooManyRedirects) as e:\n",
        "  print(e)\n",
        "\n",
        "assert response_json['status']['error_code'] == 0,\\\n",
        " (f\"CoinMarketCap Error N°{response_json['status']['error_code']} : {response_json['status']['error_message']}\")\n",
        "\n",
        "# Add USD value\n",
        "addUsdValue(resultDf,'Spot',response_json)\n",
        "addUsdValue(resultDf,'Savings',response_json)\n",
        "addUsdValue(resultDf,'Staking',response_json)\n",
        "resultDf['Tot (USD)'] = resultDf.apply(lambda row : row['Spot (USD)'] + row['Savings (USD)'] + row['Staking (USD)'], axis=1)\n"
      ]
    },
    {
      "cell_type": "markdown",
      "metadata": {
        "id": "XgmzKNRmcEWi"
      },
      "source": [
        "## Print result"
      ]
    },
    {
      "cell_type": "code",
      "execution_count": null,
      "metadata": {
        "id": "JAuMA8P2cD18"
      },
      "outputs": [],
      "source": [
        "print(f\"Tot Spot :    {resultDf['Spot (USD)'].sum():.2f} (USD)\")\n",
        "print(f\"Tot Savings : {resultDf['Savings (USD)'].sum():.2f} (USD)\")\n",
        "print(f\"Tot Staking : {resultDf['Staking (USD)'].sum():.2f} (USD)\")\n",
        "print(\"____________________________\")\n",
        "print(f\"Tot :         {resultDf['Tot (USD)'].sum():.2f} (USD)\")\n",
        "\n",
        "resultDf"
      ]
    },
    {
      "cell_type": "markdown",
      "metadata": {
        "id": "clmuUPEMkTn6"
      },
      "source": [
        "## Export result"
      ]
    },
    {
      "cell_type": "code",
      "execution_count": null,
      "metadata": {
        "id": "g7V1z0A95nZI"
      },
      "outputs": [],
      "source": [
        "resultDf.to_csv('output.csv')\n",
        "files.download('output.csv')"
      ]
    },
    {
      "cell_type": "markdown",
      "metadata": {
        "id": "kBOM90XHPkAQ"
      },
      "source": [
        "## Test CryptoCompare API\n"
      ]
    },
    {
      "cell_type": "code",
      "execution_count": 5,
      "metadata": {
        "id": "CrLHrk0ZPnsr"
      },
      "outputs": [
        {
          "name": "stdout",
          "output_type": "stream",
          "text": [
            "{\n",
            "  \"Response\": \"Success\",\n",
            "  \"Message\": \"\",\n",
            "  \"HasWarning\": false,\n",
            "  \"Type\": 100,\n",
            "  \"RateLimit\": {},\n",
            "  \"Data\": {\n",
            "    \"Aggregated\": false,\n",
            "    \"TimeFrom\": 1664434800,\n",
            "    \"TimeTo\": 1664438400,\n",
            "    \"Data\": [\n",
            "      {\n",
            "        \"time\": 1664434800,\n",
            "        \"high\": 0.433,\n",
            "        \"low\": 0.4296,\n",
            "        \"open\": 0.4325,\n",
            "        \"volumefrom\": 3790813.83,\n",
            "        \"volumeto\": 1633719.45,\n",
            "        \"close\": 0.4314,\n",
            "        \"conversionType\": \"direct\",\n",
            "        \"conversionSymbol\": \"\"\n",
            "      },\n",
            "      {\n",
            "        \"time\": 1664438400,\n",
            "        \"high\": 0.4343,\n",
            "        \"low\": 0.4309,\n",
            "        \"open\": 0.4314,\n",
            "        \"volumefrom\": 1640247.58,\n",
            "        \"volumeto\": 709696.31,\n",
            "        \"close\": 0.4341,\n",
            "        \"conversionType\": \"direct\",\n",
            "        \"conversionSymbol\": \"\"\n",
            "      }\n",
            "    ]\n",
            "  }\n",
            "}\n",
            "Price: 0.4326 (USD)\n"
          ]
        }
      ],
      "source": [
        "\n",
        "api_url = 'https://min-api.cryptocompare.com/data/v2/histohour'\n",
        "\n",
        "api_parameters = {\n",
        "  'fsym':\"ADA\",\n",
        "  'tsym':'USD',\n",
        "  'limit':'1',\n",
        "  'toTs':'1664440522',\n",
        "  'extraParams':'CryptoWallet'\n",
        "}   \n",
        "api_session = requests.Session()\n",
        "# api_session.headers.update(api_headers)\n",
        "\n",
        "# Get USD prices\n",
        "try:\n",
        "  response = api_session.get(api_url, params=api_parameters)\n",
        "  response_json = json.loads(response.text)\n",
        "except (ConnectionError, Timeout, TooManyRedirects) as e:\n",
        "  print(e)\n",
        "  raise\n",
        "\n",
        "assert response_json['Response'] == \"Success\",\\\n",
        " (f\"CryptoCompare API Error : {response_json['Message']}\")\n",
        "\n",
        "print(json.dumps(response_json, indent=2))\n",
        "data = response_json['Data']['Data'][-1]\n",
        "mean_price = (data['high'] + data['low'])/2\n",
        "print(f\"Price: {mean_price:.7} (USD)\")"
      ]
    },
    {
      "cell_type": "code",
      "execution_count": 5,
      "metadata": {},
      "outputs": [
        {
          "data": {
            "text/html": [
              "<div>\n",
              "<style scoped>\n",
              "    .dataframe tbody tr th:only-of-type {\n",
              "        vertical-align: middle;\n",
              "    }\n",
              "\n",
              "    .dataframe tbody tr th {\n",
              "        vertical-align: top;\n",
              "    }\n",
              "\n",
              "    .dataframe thead th {\n",
              "        text-align: right;\n",
              "    }\n",
              "</style>\n",
              "<table border=\"1\" class=\"dataframe\">\n",
              "  <thead>\n",
              "    <tr style=\"text-align: right;\">\n",
              "      <th></th>\n",
              "      <th>Min</th>\n",
              "      <th>Max</th>\n",
              "      <th>Rand</th>\n",
              "    </tr>\n",
              "  </thead>\n",
              "  <tbody>\n",
              "    <tr>\n",
              "      <th>0</th>\n",
              "      <td>2</td>\n",
              "      <td>10</td>\n",
              "      <td>6</td>\n",
              "    </tr>\n",
              "    <tr>\n",
              "      <th>1</th>\n",
              "      <td>7</td>\n",
              "      <td>18</td>\n",
              "      <td>16</td>\n",
              "    </tr>\n",
              "    <tr>\n",
              "      <th>2</th>\n",
              "      <td>4</td>\n",
              "      <td>12</td>\n",
              "      <td>7</td>\n",
              "    </tr>\n",
              "  </tbody>\n",
              "</table>\n",
              "</div>"
            ],
            "text/plain": [
              "   Min  Max  Rand\n",
              "0    2   10     6\n",
              "1    7   18    16\n",
              "2    4   12     7"
            ]
          },
          "execution_count": 5,
          "metadata": {},
          "output_type": "execute_result"
        }
      ],
      "source": [
        "import random\n",
        "import time \n",
        "import pandas as pd\n",
        "\n",
        "def slowRandom(min:int, max:int):\n",
        "    time.sleep(1)\n",
        "    return random.randint(min,max)\n",
        "\n",
        "dataframe = pd.DataFrame({'Min':[1,2,3],'Max':[11, 12, 13],'Rand':[pd.NA,pd.NA,pd.NA]})\n",
        "\n",
        "dataframe['Rand'] = dataframe.apply(lambda row : slowRandom(row['Min'],row['Max']), axis=1)\n",
        "\n",
        "dataframe\n",
        "\n"
      ]
    },
    {
      "cell_type": "code",
      "execution_count": null,
      "metadata": {},
      "outputs": [],
      "source": []
    }
  ],
  "metadata": {
    "colab": {
      "authorship_tag": "ABX9TyNZE3LfXwIOCwv0kvJg1PVj",
      "include_colab_link": true,
      "name": "CryptoWallet.ipynb",
      "provenance": []
    },
    "kernelspec": {
      "display_name": "Python 3.10.7 ('venv': venv)",
      "language": "python",
      "name": "python3"
    },
    "language_info": {
      "codemirror_mode": {
        "name": "ipython",
        "version": 3
      },
      "file_extension": ".py",
      "mimetype": "text/x-python",
      "name": "python",
      "nbconvert_exporter": "python",
      "pygments_lexer": "ipython3",
      "version": "3.10.7"
    },
    "vscode": {
      "interpreter": {
        "hash": "8a9af52e7727319070ebe5d9dfcbe8c73e7182301ca7cea60eaa0df4871a205c"
      }
    }
  },
  "nbformat": 4,
  "nbformat_minor": 0
}
