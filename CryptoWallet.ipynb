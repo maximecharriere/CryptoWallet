{
 "cells": [
  {
   "cell_type": "markdown",
   "metadata": {
    "colab_type": "text",
    "id": "view-in-github"
   },
   "source": [
    "<a href=\"https://colab.research.google.com/github/maximecharriere/CryptoWallet/blob/main/CryptoWallet.ipynb\" target=\"_parent\"><img src=\"https://colab.research.google.com/assets/colab-badge.svg\" alt=\"Open In Colab\"/></a>\n"
   ]
  },
  {
   "cell_type": "markdown",
   "metadata": {
    "id": "FTcRskW6NcCp"
   },
   "source": [
    "## Import libraries\n"
   ]
  },
  {
   "cell_type": "code",
   "execution_count": null,
   "metadata": {
    "id": "k33aW2lsSISi"
   },
   "outputs": [],
   "source": [
    "import os\n",
    "from CryptoWallet.Loader import BinanceLoader, SwissborgLoader, KucoinLoader, BybitLoader\n",
    "from CryptoWallet.Wallet import Wallet\n",
    "user_home_dir = os.path.expanduser('~')"
   ]
  },
  {
   "cell_type": "markdown",
   "metadata": {},
   "source": [
    "# Open database\n"
   ]
  },
  {
   "cell_type": "code",
   "execution_count": null,
   "metadata": {},
   "outputs": [],
   "source": [
    "database_path = os.path.join(\n",
    "    user_home_dir, r\"SynologyDrive\\Documents\\05_Crypto\\data\\transactions.csv\")\n",
    "\n",
    "CRYPTOCOMPARE_API_KEY = os.getenv(\"CRYPTOCOMPARE_API_KEY\")\n",
    "if not CRYPTOCOMPARE_API_KEY:\n",
    "    raise ValueError(\"CRYPTOCOMPARE_API_KEY is not set\")\n",
    "\n",
    "wallet = Wallet(apiKey=CRYPTOCOMPARE_API_KEY,\n",
    "                databaseFilename=database_path)"
   ]
  },
  {
   "attachments": {},
   "cell_type": "markdown",
   "metadata": {
    "id": "W7zc7zC8Nq-o"
   },
   "source": [
    "## Import Binance transactions\n"
   ]
  },
  {
   "cell_type": "code",
   "execution_count": null,
   "metadata": {},
   "outputs": [],
   "source": [
    "transactions_path = os.path.join(\n",
    "    user_home_dir, r\"SynologyDrive\\Documents\\05_Crypto\\ExportedTransactions\\Binance\")\n",
    "\n",
    "for filename in os.listdir(transactions_path):\n",
    "    # Create the full file path\n",
    "    filepath = os.path.join(transactions_path, filename)\n",
    "\n",
    "    # Check if it's a file and not a directory\n",
    "    if os.path.isfile(filepath):\n",
    "        # Call your processing function\n",
    "        wallet.addTransactions(BinanceLoader.load(filepath))\n",
    "\n",
    "wallet.save()"
   ]
  },
  {
   "cell_type": "markdown",
   "metadata": {},
   "source": [
    "## Import Swissborg transactions\n"
   ]
  },
  {
   "cell_type": "code",
   "execution_count": null,
   "metadata": {},
   "outputs": [],
   "source": [
    "transactions_path = os.path.join(\n",
    "    user_home_dir, r\"SynologyDrive\\Documents\\05_Crypto\\ExportedTransactions\\SwissBorg\")\n",
    "\n",
    "for filename in os.listdir(transactions_path):\n",
    "    # Create the full file path\n",
    "    filepath = os.path.join(transactions_path, filename)\n",
    "\n",
    "    # Check if it's a file and not a directory\n",
    "    if os.path.isfile(filepath):\n",
    "        # Call your processing function\n",
    "        wallet.addTransactions(SwissborgLoader.load(filepath))\n",
    "\n",
    "wallet.save()"
   ]
  },
  {
   "cell_type": "markdown",
   "metadata": {},
   "source": [
    "## Import Kucoin transactions\n"
   ]
  },
  {
   "cell_type": "code",
   "execution_count": null,
   "metadata": {},
   "outputs": [],
   "source": [
    "transactions_path = os.path.join(\n",
    "    user_home_dir, r\"SynologyDrive\\Documents\\05_Crypto\\ExportedTransactions\\Kucoin\")\n",
    "\n",
    "for folder_name in os.listdir(transactions_path):\n",
    "    # Create the full file path\n",
    "    subfolder_path = os.path.join(transactions_path, folder_name)\n",
    "\n",
    "    # Call your processing function\n",
    "    wallet.addTransactions(KucoinLoader.load(subfolder_path))\n",
    "\n",
    "wallet.save()"
   ]
  },
  {
   "cell_type": "markdown",
   "metadata": {},
   "source": [
    "## Import Bybit transactions"
   ]
  },
  {
   "cell_type": "code",
   "execution_count": null,
   "metadata": {},
   "outputs": [],
   "source": [
    "transactions_path = os.path.join(\n",
    "    user_home_dir, r\"SynologyDrive\\Documents\\05_Crypto\\ExportedTransactions\\ByBit\")\n",
    "\n",
    "for folder_name in os.listdir(transactions_path):\n",
    "    # Create the full file path\n",
    "    subfolder_path = os.path.join(transactions_path, folder_name)\n",
    "\n",
    "    # Call your processing function\n",
    "    wallet.addTransactions(BybitLoader.load(subfolder_path))\n",
    "\n",
    "wallet.save()"
   ]
  },
  {
   "cell_type": "markdown",
   "metadata": {},
   "source": [
    "## Export stats\n"
   ]
  },
  {
   "cell_type": "code",
   "execution_count": 5,
   "metadata": {},
   "outputs": [],
   "source": [
    "stats_filepath = os.path.join(\n",
    "    user_home_dir, r\"SynologyDrive\\Documents\\05_Crypto\\data\\stats.xlsx\")\n",
    "\n",
    "# wallet.getStatsTot().to_excel(stats_filepath, sheet_name='StatsTot')\n",
    "wallet.getWalletsBalance().to_excel(stats_filepath, sheet_name='Wallets')"
   ]
  },
  {
   "cell_type": "code",
   "execution_count": null,
   "metadata": {},
   "outputs": [],
   "source": [
    "# return transactions in the wallet where 'exchange' = Kucoin and 'asset' = EUR\n",
    "wallet.transactions[(wallet.transactions['exchange'] == 'Kucoin') & (\n",
    "    wallet.transactions['asset'] == 'TON')]"
   ]
  },
  {
   "cell_type": "markdown",
   "metadata": {},
   "source": [
    "# Export for TradingView\n"
   ]
  },
  {
   "cell_type": "code",
   "execution_count": null,
   "metadata": {},
   "outputs": [],
   "source": [
    "TradingView_filepath = os.path.join(\n",
    "    user_home_dir, r\"SynologyDrive\\Documents\\05_Crypto\\data\\transactionsToPlot.txt\")\n",
    "\n",
    "wallet.exportTradingView(TradingView_filepath)"
   ]
  },
  {
   "cell_type": "markdown",
   "metadata": {},
   "source": [
    "# Save transactions\n"
   ]
  },
  {
   "cell_type": "code",
   "execution_count": null,
   "metadata": {},
   "outputs": [],
   "source": [
    "wallet.save()"
   ]
  },
  {
   "cell_type": "code",
   "execution_count": null,
   "metadata": {},
   "outputs": [],
   "source": []
  }
 ],
 "metadata": {
  "colab": {
   "authorship_tag": "ABX9TyNZE3LfXwIOCwv0kvJg1PVj",
   "include_colab_link": true,
   "name": "CryptoWallet.ipynb",
   "provenance": []
  },
  "kernelspec": {
   "display_name": ".venv",
   "language": "python",
   "name": "python3"
  },
  "language_info": {
   "codemirror_mode": {
    "name": "ipython",
    "version": 3
   },
   "file_extension": ".py",
   "mimetype": "text/x-python",
   "name": "python",
   "nbconvert_exporter": "python",
   "pygments_lexer": "ipython3",
   "version": "3.12.6"
  }
 },
 "nbformat": 4,
 "nbformat_minor": 0
}
