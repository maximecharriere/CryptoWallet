{
 "cells": [
  {
   "cell_type": "markdown",
   "metadata": {
    "colab_type": "text",
    "id": "view-in-github"
   },
   "source": [
    "<a href=\"https://colab.research.google.com/github/maximecharriere/CryptoWallet/blob/main/CryptoWallet.ipynb\" target=\"_parent\"><img src=\"https://colab.research.google.com/assets/colab-badge.svg\" alt=\"Open In Colab\"/></a>\n"
   ]
  },
  {
   "cell_type": "markdown",
   "metadata": {
    "id": "FTcRskW6NcCp"
   },
   "source": [
    "## Import libraries\n"
   ]
  },
  {
   "cell_type": "code",
   "execution_count": null,
   "metadata": {
    "id": "k33aW2lsSISi"
   },
   "outputs": [],
   "source": [
    "import os\n",
    "from CryptoWallet.Loader import BinanceLoader, SwissborgLoader, KucoinLoader, BybitLoader, ManualTransactionsLoader, CoinbaseLoader\n",
    "from CryptoWallet.Wallet import Wallet\n",
    "from CryptoWallet.Settings import Settings\n",
    "\n",
    "import pandas as pd"
   ]
  },
  {
   "cell_type": "markdown",
   "metadata": {},
   "source": [
    "# Open database\n"
   ]
  },
  {
   "cell_type": "code",
   "execution_count": null,
   "metadata": {},
   "outputs": [],
   "source": [
    "settings = Settings.load()\n",
    "wallet = Wallet(apiKey=settings.cryptocompare_api_key, databaseFilename=settings.database_filepath)"
   ]
  },
  {
   "attachments": {},
   "cell_type": "markdown",
   "metadata": {
    "id": "W7zc7zC8Nq-o"
   },
   "source": [
    "## Import Binance transactions\n"
   ]
  },
  {
   "cell_type": "code",
   "execution_count": null,
   "metadata": {},
   "outputs": [],
   "source": [
    "transactions_path = os.path.join(settings.exported_transactions_dirpath, \"Binance\")\n",
    "\n",
    "for filename in os.listdir(transactions_path):\n",
    "    # Create the full file path\n",
    "    filepath = os.path.join(transactions_path, filename)\n",
    "\n",
    "    # Check if it's a file and not a directory\n",
    "    if os.path.isfile(filepath):\n",
    "        # Call your processing function\n",
    "        wallet.addTransactions(BinanceLoader.load(filepath))\n",
    "\n",
    "wallet.printFirstLastTransactionDatetime()\n",
    "wallet.save()"
   ]
  },
  {
   "cell_type": "markdown",
   "metadata": {},
   "source": [
    "## Import Swissborg transactions\n"
   ]
  },
  {
   "cell_type": "code",
   "execution_count": null,
   "metadata": {},
   "outputs": [],
   "source": [
    "transactions_path = os.path.join(settings.exported_transactions_dirpath, \"SwissBorg\")\n",
    "\n",
    "for filename in os.listdir(transactions_path):\n",
    "    # Create the full file path\n",
    "    filepath = os.path.join(transactions_path, filename)\n",
    "\n",
    "    # Check if it's a file and not a directory\n",
    "    if os.path.isfile(filepath):\n",
    "        # Call your processing function\n",
    "        wallet.addTransactions(SwissborgLoader.load(filepath))\n",
    "\n",
    "wallet.printFirstLastTransactionDatetime()\n",
    "wallet.save()"
   ]
  },
  {
   "cell_type": "markdown",
   "metadata": {},
   "source": [
    "## Import Kucoin transactions\n"
   ]
  },
  {
   "cell_type": "code",
   "execution_count": null,
   "metadata": {},
   "outputs": [],
   "source": [
    "transactions_path = os.path.join(settings.exported_transactions_dirpath, \"Kucoin\")\n",
    "\n",
    "for folder_name in os.listdir(transactions_path):\n",
    "    # Create the full file path\n",
    "    subfolder_path = os.path.join(transactions_path, folder_name)\n",
    "\n",
    "    # Call your processing function\n",
    "    wallet.addTransactions(KucoinLoader.load(subfolder_path))\n",
    "\n",
    "wallet.printFirstLastTransactionDatetime()\n",
    "wallet.save()"
   ]
  },
  {
   "cell_type": "markdown",
   "metadata": {},
   "source": [
    "## Import Bybit transactions"
   ]
  },
  {
   "cell_type": "code",
   "execution_count": null,
   "metadata": {},
   "outputs": [],
   "source": [
    "transactions_path = os.path.join(settings.exported_transactions_dirpath, \"ByBit\")\n",
    "\n",
    "for folder_name in os.listdir(transactions_path):\n",
    "    # Create the full file path\n",
    "    subfolder_path = os.path.join(transactions_path, folder_name)\n",
    "\n",
    "    # Call your processing function\n",
    "    wallet.addTransactions(BybitLoader.load(subfolder_path))\n",
    "\n",
    "wallet.save()"
   ]
  },
  {
   "cell_type": "markdown",
   "metadata": {},
   "source": [
    "# Import Coinbase transactions"
   ]
  },
  {
   "cell_type": "code",
   "execution_count": null,
   "metadata": {},
   "outputs": [],
   "source": [
    "transactions_path = os.path.join(settings.exported_transactions_dirpath, \"Coinbase\")\n",
    "\n",
    "for folder_name in os.listdir(transactions_path):\n",
    "    # Create the full file path\n",
    "    subfolder_path = os.path.join(transactions_path, folder_name)\n",
    "\n",
    "    # Call your processing function\n",
    "    wallet.addTransactions(CoinbaseLoader.load(subfolder_path))\n",
    "\n",
    "wallet.save()\n",
    "\n",
    "print(\"WARNING: Please check the transactions and make sure they are correct. Loader not 100% accurate for Coinbase. Please check the transactions manually.\")"
   ]
  },
  {
   "cell_type": "markdown",
   "metadata": {},
   "source": [
    "## Import Manual Transactions files"
   ]
  },
  {
   "cell_type": "code",
   "execution_count": null,
   "metadata": {},
   "outputs": [],
   "source": [
    "transactions_path = os.path.join(settings.exported_transactions_dirpath, \"Manual\")\n",
    "\n",
    "for filename in os.listdir(transactions_path):\n",
    "    # Create the full file path\n",
    "    filepath = os.path.join(transactions_path, filename)\n",
    "\n",
    "    # Check if it's a file and not a directory\n",
    "    if os.path.isfile(filepath):\n",
    "        # Call your processing function\n",
    "        wallet.addTransactions(ManualTransactionsLoader.load(filepath))\n",
    "\n",
    "wallet.save()"
   ]
  },
  {
   "cell_type": "markdown",
   "metadata": {},
   "source": [
    "## Export stats\n"
   ]
  },
  {
   "cell_type": "code",
   "execution_count": null,
   "metadata": {},
   "outputs": [],
   "source": [
    "stats_filepath = os.path.join(settings.output_dirpath, \"stats.xlsx\")\n",
    "\n",
    "directory = os.path.dirname(stats_filepath)\n",
    "if directory:  # Only create directories if there's actually a path component\n",
    "    os.makedirs(directory, exist_ok=True)\n",
    "\n",
    "with pd.ExcelWriter(stats_filepath, engine='openpyxl') as writer:\n",
    "    wallet.getStatsTot().to_excel(writer, sheet_name='StatsTot')\n",
    "    wallet.getWalletsBalance().to_excel(writer, sheet_name='Wallets')\n",
    "    wallet.getTransactions(remove_datetime_timezone=True).to_excel(writer, sheet_name='Transactions', index=False)\n"
   ]
  },
  {
   "cell_type": "markdown",
   "metadata": {},
   "source": [
    "# Export for TradingView\n"
   ]
  },
  {
   "cell_type": "code",
   "execution_count": null,
   "metadata": {},
   "outputs": [],
   "source": [
    "TradingView_filepath = os.path.join(settings.output_dirpath, \"TradingView_PineData.txt\")\n",
    "directory = os.path.dirname(stats_filepath)\n",
    "if directory:  # Only create directories if there's actually a path component\n",
    "    os.makedirs(directory, exist_ok=True)\n",
    "wallet.exportTradingView(TradingView_filepath)"
   ]
  },
  {
   "cell_type": "markdown",
   "metadata": {},
   "source": [
    "# Save transactions\n"
   ]
  },
  {
   "cell_type": "code",
   "execution_count": null,
   "metadata": {},
   "outputs": [],
   "source": [
    "wallet.save()"
   ]
  }
 ],
 "metadata": {
  "colab": {
   "authorship_tag": "ABX9TyNZE3LfXwIOCwv0kvJg1PVj",
   "include_colab_link": true,
   "name": "CryptoWallet.ipynb",
   "provenance": []
  },
  "kernelspec": {
   "display_name": ".venv",
   "language": "python",
   "name": "python3"
  },
  "language_info": {
   "codemirror_mode": {
    "name": "ipython",
    "version": 3
   },
   "file_extension": ".py",
   "mimetype": "text/x-python",
   "name": "python",
   "nbconvert_exporter": "python",
   "pygments_lexer": "ipython3",
   "version": "3.12.6"
  }
 },
 "nbformat": 4,
 "nbformat_minor": 0
}
